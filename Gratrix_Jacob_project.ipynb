{
 "cells": [
  {
   "cell_type": "markdown",
   "metadata": {},
   "source": [
    "### STAT 4185 Final Project\n",
    "### Jacob Gratrix\n",
    "\n",
    "## An Analysis of the US Power Grid and its System Optimality"
   ]
  },
  {
   "attachments": {},
   "cell_type": "markdown",
   "metadata": {},
   "source": [
    "### Introduction\n",
    "\n",
    "The United States power grid, while commercially balkanized among regional markets and operating firms, is the largest and most connected piece of infrastructure ever constructed by mankind. While the relationships between consumer satisfaction with grid operations and the actual upkeep status of the grid are no doubt complex, here we aim to ascertain the rough degree to which this infrastructure accomplishes its explicit goal to provide electricity from where it is supplied to where it is demanded.\n",
    "\n"
   ]
  },
  {
   "attachments": {},
   "cell_type": "markdown",
   "metadata": {},
   "source": [
    "## Data Collection\n",
    "\n",
    "We first import the relevant libraries for performing our analysis."
   ]
  },
  {
   "cell_type": "code",
   "execution_count": 2,
   "metadata": {},
   "outputs": [],
   "source": [
    "import sys\n",
    "import csv\n",
    "\n",
    "import numpy as np\n",
    "import pandas as pd\n",
    "import matplotlib.pyplot as plt"
   ]
  },
  {
   "attachments": {},
   "cell_type": "markdown",
   "metadata": {},
   "source": [
    "We also import several libraries for the data collection. These include the builtin `datetime` package and the `gridstatus` API for collating data from regional power operators."
   ]
  },
  {
   "cell_type": "code",
   "execution_count": 3,
   "metadata": {},
   "outputs": [],
   "source": [
    "import gridstatus as gs\n",
    "import datetime as dt\n",
    "\n",
    "import urllib\n",
    "from bs4 import BeautifulSoup as bs\n",
    "import requests\n",
    "\n",
    "import re"
   ]
  },
  {
   "attachments": {},
   "cell_type": "markdown",
   "metadata": {},
   "source": [
    "Next it is necessary to define a list of service operators, `interconnections`, for convenience of analysing multiple regions at once. \n",
    "Additionally, we define two functions, `get_fuel_mixes` and `get_grid_loads` to return Pandas DataFrames amenable to processing.\n",
    "\n",
    "We will use data from the current year, from a subset of the months of the year, and include data from just the first day of the month in order to keep the data volume manageable. \n",
    "\n",
    "Note that `interconnections` will not include the PJM, MISO, SPP, or Ercot regional system operators. This is because they either have no published fuel mix data for the dates requested, or don't support the fuel mix retrieval method in the `gridstatus` module. "
   ]
  },
  {
   "cell_type": "code",
   "execution_count": 4,
   "metadata": {},
   "outputs": [],
   "source": [
    "isone = gs.ISONE() # New England ISO\n",
    "caiso = gs.CAISO() # California ISO\n",
    "nyiso = gs.NYISO() # New York ISO\n",
    "pjm = gs.PJM() # PJM Interconnection RTO\n",
    "miso = gs.MISO() # Midcontinent ISO\n",
    "spp = gs.SPP() # Southwest Power Pool RTO\n",
    "ercot = gs.Ercot() # Electric Reliability Council, Texas\n",
    "\n",
    "interconnections = [isone, caiso, nyiso] # Excluded: PJM, MISO, SPP, Ercot\n",
    "\n",
    "months = ['January', 'March', 'May', 'July', 'September', 'November'] # We include odd months\n",
    "\n",
    "def get_fuel_mixes(iso):\n",
    "    fuel_mixes = {}\n",
    "    for mo in months:\n",
    "        start = pd.Timestamp(f'{mo} 1, 2022')\n",
    "        end = pd.Timestamp(f'{mo} 2, 2022') # We'll only use one day each month to keep amt of data manageable\n",
    "        fuel_mix = iso.get_fuel_mix(start, verbose=False)\n",
    "        fuel_mixes[mo] = fuel_mix\n",
    "    return fuel_mixes\n",
    "\n",
    "def get_grid_loads(iso):\n",
    "    grid_loads = {}\n",
    "    for mo in months:\n",
    "        start = pd.Timestamp(f'{mo} 1, 2022')\n",
    "        end = pd.Timestamp(f'{mo} 2, 2022') # We'll only use one day each month to keep amt of data manageable\n",
    "        grid_load = iso.get_load(start)\n",
    "        grid_loads[mo] = grid_load\n",
    "    return grid_loads"
   ]
  },
  {
   "attachments": {},
   "cell_type": "markdown",
   "metadata": {},
   "source": [
    "Using these functions, we obtain our fuel mix data and grid load data for the first day in the first odd months of 2022. \n",
    "Please note that the following cell takes upwards of 90 seconds to run. As an alternative, proceeding the following two cells, a script will generate the relevant Pandas dataframes given that the `./data` folder and `.csv` data files are present in your directory. "
   ]
  },
  {
   "cell_type": "code",
   "execution_count": null,
   "metadata": {},
   "outputs": [],
   "source": [
    "%%capture --no-display\n",
    "\n",
    "mix_dfs = {}\n",
    "load_dfs = {}\n",
    "\n",
    "for iso in interconnections:\n",
    "    mix_dfs[iso] = get_fuel_mixes(iso)\n",
    "    load_dfs[iso] = get_grid_loads(iso)\n"
   ]
  },
  {
   "cell_type": "code",
   "execution_count": 30,
   "metadata": {},
   "outputs": [],
   "source": [
    "for iso in interconnections:\n",
    "    for mo in months:\n",
    "        mix_output = pd.DataFrame(mix_dfs[iso][mo])\n",
    "        mix_output.to_csv(path_or_buf=f'./data/mix-{repr(iso)[12:16]}-{mo}', index=False)\n",
    "        load_output = pd.DataFrame(load_dfs[iso][mo])\n",
    "        load_output.to_csv(path_or_buf=f'./data/load-{repr(iso)[12:16]}-{mo}', index=False)\n"
   ]
  },
  {
   "attachments": {},
   "cell_type": "markdown",
   "metadata": {},
   "source": [
    "The following cell may be used if the `./data` folder is accessible in your directory to generate the relevant Pandas dataframes. "
   ]
  },
  {
   "cell_type": "code",
   "execution_count": 6,
   "metadata": {},
   "outputs": [],
   "source": [
    "mix_dfs = {}\n",
    "load_dfs = {}\n",
    "\n",
    "for iso in interconnections:\n",
    "    iso_str = repr(iso)[12:16]\n",
    "    mix_dfs[iso] = {}\n",
    "    load_dfs[iso] = {}\n",
    "    for mo in months:\n",
    "        mix_dfs[iso][mo] = pd.read_csv(f'./data/mix-{iso_str}-{mo}')\n",
    "        load_dfs[iso][mo] = pd.read_csv(f'./data/load-{iso_str}-{mo}')\n"
   ]
  },
  {
   "attachments": {},
   "cell_type": "markdown",
   "metadata": {},
   "source": [
    "Last we incorporate data on US power consumption by state and/or region in the current year, where we will perform the proper grouping and data munging tasks later on. "
   ]
  },
  {
   "cell_type": "code",
   "execution_count": 68,
   "metadata": {},
   "outputs": [],
   "source": [
    "url = 'https://www.eia.gov/electricity/state/'\n",
    "req = requests.get(url)\n",
    "assert (req.status_code == 200)"
   ]
  },
  {
   "cell_type": "code",
   "execution_count": 103,
   "metadata": {},
   "outputs": [],
   "source": [
    "content = bs(req.content, 'html.parser')\n",
    "sel_tab = content.select('td')\n",
    "\n",
    "selection = [str(a) for a in sel_tab]\n"
   ]
  },
  {
   "attachments": {},
   "cell_type": "markdown",
   "metadata": {},
   "source": [
    "## Data Cleaning and Munging"
   ]
  },
  {
   "attachments": {},
   "cell_type": "markdown",
   "metadata": {},
   "source": [
    "Next we aim to transform these Pandas dataframes in order to make them amenable to statistical modeling. First we will check the datatypes of each series. "
   ]
  },
  {
   "cell_type": "code",
   "execution_count": 7,
   "metadata": {},
   "outputs": [
    {
     "name": "stdout",
     "output_type": "stream",
     "text": [
      "Time             object\n",
      "Hydro           float64\n",
      "Landfill Gas    float64\n",
      "Natural Gas     float64\n",
      "Nuclear         float64\n",
      "Other           float64\n",
      "Refuse          float64\n",
      "Solar           float64\n",
      "Wind            float64\n",
      "Wood            float64\n",
      "dtype: object\n",
      "Time     object\n",
      "Load    float64\n",
      "dtype: object\n"
     ]
    },
    {
     "data": {
      "text/html": [
       "<div>\n",
       "<style scoped>\n",
       "    .dataframe tbody tr th:only-of-type {\n",
       "        vertical-align: middle;\n",
       "    }\n",
       "\n",
       "    .dataframe tbody tr th {\n",
       "        vertical-align: top;\n",
       "    }\n",
       "\n",
       "    .dataframe thead th {\n",
       "        text-align: right;\n",
       "    }\n",
       "</style>\n",
       "<table border=\"1\" class=\"dataframe\">\n",
       "  <thead>\n",
       "    <tr style=\"text-align: right;\">\n",
       "      <th></th>\n",
       "      <th>Time</th>\n",
       "      <th>Hydro</th>\n",
       "      <th>Landfill Gas</th>\n",
       "      <th>Natural Gas</th>\n",
       "      <th>Nuclear</th>\n",
       "      <th>Other</th>\n",
       "      <th>Refuse</th>\n",
       "      <th>Solar</th>\n",
       "      <th>Wind</th>\n",
       "      <th>Wood</th>\n",
       "    </tr>\n",
       "  </thead>\n",
       "  <tbody>\n",
       "    <tr>\n",
       "      <th>0</th>\n",
       "      <td>2022-01-01 00:01:02-05:00</td>\n",
       "      <td>546.0</td>\n",
       "      <td>39.0</td>\n",
       "      <td>4053.0</td>\n",
       "      <td>3352.0</td>\n",
       "      <td>0.0</td>\n",
       "      <td>376.0</td>\n",
       "      <td>3.0</td>\n",
       "      <td>78.0</td>\n",
       "      <td>242.0</td>\n",
       "    </tr>\n",
       "    <tr>\n",
       "      <th>1</th>\n",
       "      <td>2022-01-01 00:23:37-05:00</td>\n",
       "      <td>554.0</td>\n",
       "      <td>39.0</td>\n",
       "      <td>3625.0</td>\n",
       "      <td>3353.0</td>\n",
       "      <td>0.0</td>\n",
       "      <td>369.0</td>\n",
       "      <td>3.0</td>\n",
       "      <td>93.0</td>\n",
       "      <td>244.0</td>\n",
       "    </tr>\n",
       "    <tr>\n",
       "      <th>2</th>\n",
       "      <td>2022-01-01 00:47:42-05:00</td>\n",
       "      <td>554.0</td>\n",
       "      <td>39.0</td>\n",
       "      <td>3377.0</td>\n",
       "      <td>3351.0</td>\n",
       "      <td>0.0</td>\n",
       "      <td>380.0</td>\n",
       "      <td>3.0</td>\n",
       "      <td>85.0</td>\n",
       "      <td>243.0</td>\n",
       "    </tr>\n",
       "    <tr>\n",
       "      <th>3</th>\n",
       "      <td>2022-01-01 01:02:14-05:00</td>\n",
       "      <td>546.0</td>\n",
       "      <td>39.0</td>\n",
       "      <td>3162.0</td>\n",
       "      <td>3352.0</td>\n",
       "      <td>13.0</td>\n",
       "      <td>380.0</td>\n",
       "      <td>3.0</td>\n",
       "      <td>93.0</td>\n",
       "      <td>244.0</td>\n",
       "    </tr>\n",
       "    <tr>\n",
       "      <th>4</th>\n",
       "      <td>2022-01-01 01:23:20-05:00</td>\n",
       "      <td>537.0</td>\n",
       "      <td>39.0</td>\n",
       "      <td>3078.0</td>\n",
       "      <td>3350.0</td>\n",
       "      <td>35.0</td>\n",
       "      <td>378.0</td>\n",
       "      <td>3.0</td>\n",
       "      <td>100.0</td>\n",
       "      <td>242.0</td>\n",
       "    </tr>\n",
       "  </tbody>\n",
       "</table>\n",
       "</div>"
      ],
      "text/plain": [
       "                        Time  Hydro  Landfill Gas  Natural Gas  Nuclear  \\\n",
       "0  2022-01-01 00:01:02-05:00  546.0          39.0       4053.0   3352.0   \n",
       "1  2022-01-01 00:23:37-05:00  554.0          39.0       3625.0   3353.0   \n",
       "2  2022-01-01 00:47:42-05:00  554.0          39.0       3377.0   3351.0   \n",
       "3  2022-01-01 01:02:14-05:00  546.0          39.0       3162.0   3352.0   \n",
       "4  2022-01-01 01:23:20-05:00  537.0          39.0       3078.0   3350.0   \n",
       "\n",
       "   Other  Refuse  Solar   Wind   Wood  \n",
       "0    0.0   376.0    3.0   78.0  242.0  \n",
       "1    0.0   369.0    3.0   93.0  244.0  \n",
       "2    0.0   380.0    3.0   85.0  243.0  \n",
       "3   13.0   380.0    3.0   93.0  244.0  \n",
       "4   35.0   378.0    3.0  100.0  242.0  "
      ]
     },
     "execution_count": 7,
     "metadata": {},
     "output_type": "execute_result"
    }
   ],
   "source": [
    "print(mix_dfs[isone]['January'].dtypes)\n",
    "print(load_dfs[isone]['January'].dtypes)\n",
    "\n",
    "mix_dfs[isone]['January'].head()\n",
    "#load_dfs[isone]['January'].head()\n",
    "\n",
    "\n"
   ]
  },
  {
   "attachments": {},
   "cell_type": "markdown",
   "metadata": {},
   "source": [
    "We convert the data type of the `Time` series to Pandas `datetime64`, and remedy any missing values. "
   ]
  },
  {
   "cell_type": "code",
   "execution_count": 8,
   "metadata": {},
   "outputs": [],
   "source": [
    "for iso in interconnections:\n",
    "    for mo in months:\n",
    "        mix_dfs[iso][mo]['Time'][:10].astype('datetime64')\n",
    "        load_dfs[iso][mo]['Time'][:10].astype('datetime64')\n",
    "        "
   ]
  },
  {
   "attachments": {},
   "cell_type": "markdown",
   "metadata": {},
   "source": [
    "Lastly we need to clean and subset the US consumption data contained in our data structure `selection`."
   ]
  },
  {
   "cell_type": "code",
   "execution_count": null,
   "metadata": {},
   "outputs": [],
   "source": [
    "states = []\n",
    "avg_price = []\n",
    "net_sum_cap = []\n",
    "net_gen = []\n",
    "retail_sales = []\n",
    "\n",
    "i = 0\n",
    "for s in selection[:]:\n",
    "    if i % 5 == 0:\n",
    "        states.append(re.findall(r'\"(.*?)\"', s))\n",
    "    elif i % 5 == 1:\n",
    "        avg_price.append(re.findall(r'[\\d,]+\\.\\d+', s))\n",
    "    elif i % 5 == 2:\n",
    "        net_sum_cap.append(re.findall(r'[\\d,]+\\d+', s))\n",
    "    elif i % 5 == 3:\n",
    "        net_gen.append(re.findall(r'[\\d,]+\\d+', s))\n",
    "    elif i % 5 == 4:\n",
    "        retail_sales.append(re.findall(r'[\\d,]+\\d+', s))\n",
    "    i += 1\n",
    "\n",
    "for i in [states, avg_price, net_sum_cap, net_gen, retail_sales]:\n",
    "    for j in range(len(i)):\n",
    "        i[j] = str(i[j][0]).strip()\n",
    "\n",
    "states = pd.Series(states, dtype='str')\n",
    "avg_price = pd.Series(avg_price, dtype='float64')\n",
    "net_sum_cap = pd.Series(net_sum_cap).apply(lambda x: x.replace(',', '')).astype(np.float64)\n",
    "net_gen = pd.Series(net_gen).apply(lambda x: x.replace(',', '')).astype(np.float64)\n",
    "retail_sales = pd.Series(retail_sales).apply(lambda x: x.replace(',', '')).astype(np.float64)\n",
    "\n",
    "consumption = pd.DataFrame([states, avg_price, net_sum_cap, net_gen, retail_sales]).transpose()\n",
    "consumption.columns = ['State', 'Avg Price (cent/kWh)', 'Net Summer Capcity (MW)', 'Net Generation (MWh)', 'Total Retail Sales (MWh)']\n",
    "\n",
    "consumption.head()"
   ]
  },
  {
   "attachments": {},
   "cell_type": "markdown",
   "metadata": {},
   "source": [
    "Now we introduce the relevant grouping according to ISO service areas."
   ]
  },
  {
   "cell_type": "code",
   "execution_count": 181,
   "metadata": {},
   "outputs": [],
   "source": [
    "iso_st = {'connecticut': 'ISONE', \n",
    "'massachusetts': 'ISONE', \n",
    "'rhodeisland': 'ISONE', \n",
    "'maine': 'ISONE', \n",
    "'newhampshire': 'ISONE', \n",
    "'vermont': 'ISONE', \n",
    "'newyork': 'NYISO', \n",
    "'california': 'CAISO', \n",
    "'nevada': 'CAISO'}\n",
    "\n",
    "iso_states = pd.Series([iso_st.get(st) for st in consumption['State']])\n",
    "\n",
    "consumption['State ISO'] = iso_states"
   ]
  },
  {
   "attachments": {},
   "cell_type": "markdown",
   "metadata": {},
   "source": [
    "For reference and reproducibility, the following code creates a `.csv` file for this consumption dataframe, and then generates a dataframe from that `.csv` file."
   ]
  },
  {
   "cell_type": "code",
   "execution_count": null,
   "metadata": {},
   "outputs": [],
   "source": [
    "consumption.to_csv(path_or_buf=f'./data/US-Power-Consumption-and-Prices', index=False)"
   ]
  },
  {
   "cell_type": "code",
   "execution_count": 65,
   "metadata": {},
   "outputs": [
    {
     "data": {
      "text/html": [
       "<div>\n",
       "<style scoped>\n",
       "    .dataframe tbody tr th:only-of-type {\n",
       "        vertical-align: middle;\n",
       "    }\n",
       "\n",
       "    .dataframe tbody tr th {\n",
       "        vertical-align: top;\n",
       "    }\n",
       "\n",
       "    .dataframe thead th {\n",
       "        text-align: right;\n",
       "    }\n",
       "</style>\n",
       "<table border=\"1\" class=\"dataframe\">\n",
       "  <thead>\n",
       "    <tr style=\"text-align: right;\">\n",
       "      <th></th>\n",
       "      <th>State</th>\n",
       "      <th>Avg Price (cent/kWh)</th>\n",
       "      <th>Net Summer Capcity (MW)</th>\n",
       "      <th>Net Generation (MWh)</th>\n",
       "      <th>Total Retail Sales (MWh)</th>\n",
       "      <th>State ISO</th>\n",
       "    </tr>\n",
       "  </thead>\n",
       "  <tbody>\n",
       "    <tr>\n",
       "      <th>0</th>\n",
       "      <td>alabama</td>\n",
       "      <td>10.18</td>\n",
       "      <td>28911.0</td>\n",
       "      <td>142733330.0</td>\n",
       "      <td>85585166.0</td>\n",
       "      <td>NaN</td>\n",
       "    </tr>\n",
       "    <tr>\n",
       "      <th>1</th>\n",
       "      <td>alaska</td>\n",
       "      <td>20.02</td>\n",
       "      <td>2774.0</td>\n",
       "      <td>6595818.0</td>\n",
       "      <td>5969339.0</td>\n",
       "      <td>NaN</td>\n",
       "    </tr>\n",
       "    <tr>\n",
       "      <th>2</th>\n",
       "      <td>arizona</td>\n",
       "      <td>10.73</td>\n",
       "      <td>27596.0</td>\n",
       "      <td>108604620.0</td>\n",
       "      <td>81219990.0</td>\n",
       "      <td>NaN</td>\n",
       "    </tr>\n",
       "    <tr>\n",
       "      <th>3</th>\n",
       "      <td>arkansas</td>\n",
       "      <td>9.10</td>\n",
       "      <td>14832.0</td>\n",
       "      <td>61100068.0</td>\n",
       "      <td>48663142.0</td>\n",
       "      <td>NaN</td>\n",
       "    </tr>\n",
       "    <tr>\n",
       "      <th>4</th>\n",
       "      <td>california</td>\n",
       "      <td>19.65</td>\n",
       "      <td>81184.0</td>\n",
       "      <td>197165106.0</td>\n",
       "      <td>247249865.0</td>\n",
       "      <td>CAISO</td>\n",
       "    </tr>\n",
       "  </tbody>\n",
       "</table>\n",
       "</div>"
      ],
      "text/plain": [
       "        State  Avg Price (cent/kWh)  Net Summer Capcity (MW)  \\\n",
       "0     alabama                 10.18                  28911.0   \n",
       "1      alaska                 20.02                   2774.0   \n",
       "2     arizona                 10.73                  27596.0   \n",
       "3    arkansas                  9.10                  14832.0   \n",
       "4  california                 19.65                  81184.0   \n",
       "\n",
       "   Net Generation (MWh)  Total Retail Sales (MWh) State ISO  \n",
       "0           142733330.0                85585166.0       NaN  \n",
       "1             6595818.0                 5969339.0       NaN  \n",
       "2           108604620.0                81219990.0       NaN  \n",
       "3            61100068.0                48663142.0       NaN  \n",
       "4           197165106.0               247249865.0     CAISO  "
      ]
     },
     "execution_count": 65,
     "metadata": {},
     "output_type": "execute_result"
    }
   ],
   "source": [
    "consumption = pd.read_csv(f'./data/US-Power-Consumption-and-Prices')\n",
    "consumption.columns = ['State', 'Avg Price (cent/kWh)', 'Net Summer Capcity (MW)', 'Net Generation (MWh)', 'Total Retail Sales (MWh)', 'State ISO']\n",
    "consumption.head()"
   ]
  },
  {
   "attachments": {},
   "cell_type": "markdown",
   "metadata": {},
   "source": [
    "## A Few Visualizations"
   ]
  },
  {
   "attachments": {},
   "cell_type": "markdown",
   "metadata": {},
   "source": [
    "The visualizations will serve an important purpose in helping identify relationships between variables which either have low sample sizes (i.e. are aggregated values like means) or have irregular discrete structure (such as month to month relationships). \n",
    "We would first like to chart the difference is mixes of fuels used to power the New England, Newq York, and California repectively in a winter month (January) and a summer month (July). "
   ]
  },
  {
   "cell_type": "code",
   "execution_count": 12,
   "metadata": {},
   "outputs": [],
   "source": [
    "%%capture --no-display\n",
    "\n",
    "isos = [isone, nyiso, caiso]\n",
    "month = 'January'\n",
    "\n",
    "dat = pd.DataFrame()\n",
    "for iso in isos:\n",
    "    dat[iso] = mix_dfs[iso][month].mean()\n",
    "\n",
    "dat.columns = ['ISONE', 'NYISO', 'CAISO']\n",
    "dat.fillna(0.0, inplace=True)\n",
    "dat = dat.transpose()\n",
    "source_ls = list(dat.columns)\n"
   ]
  },
  {
   "cell_type": "code",
   "execution_count": 49,
   "metadata": {},
   "outputs": [
    {
     "data": {
      "image/png": "[encoded data removed]",
      "text/plain": [
       "<Figure size 640x480 with 1 Axes>"
      ]
     },
     "metadata": {},
     "output_type": "display_data"
    }
   ],
   "source": [
    "fig, ax = plt.subplots()\n",
    "\n",
    "for source in source_ls:\n",
    "    ax.bar(['ISONE', 'NYISO', 'CAISO'], dat[source], width=0.5, label=source)\n",
    "\n",
    "ax.set_ylabel('Megawatt-hours Consumption')\n",
    "ax.set_xlabel('Regional ISO')\n",
    "ax.set_title('Mix of Fuel Sources in New England, NY, and CA')\n",
    "ax.legend(loc='upper center')\n",
    "\n",
    "plt.show()"
   ]
  },
  {
   "cell_type": "code",
   "execution_count": 35,
   "metadata": {},
   "outputs": [],
   "source": [
    "%%capture --no-display\n",
    "\n",
    "isos = [isone, nyiso, caiso]\n",
    "month = 'July'\n",
    "\n",
    "dat = pd.DataFrame()\n",
    "for iso in isos:\n",
    "    dat[iso] = mix_dfs[iso][month].mean()\n",
    "\n",
    "dat.columns = ['ISONE', 'NYISO', 'CAISO']\n",
    "dat.fillna(0.0, inplace=True)\n",
    "dat = dat.transpose()\n",
    "source_ls = list(dat.columns)"
   ]
  },
  {
   "cell_type": "code",
   "execution_count": 37,
   "metadata": {},
   "outputs": [
    {
     "data": {
      "image/png": "[encoded data removed]",
      "text/plain": [
       "<Figure size 640x480 with 1 Axes>"
      ]
     },
     "metadata": {},
     "output_type": "display_data"
    }
   ],
   "source": [
    "fig, ax = plt.subplots()\n",
    "\n",
    "for source in source_ls:\n",
    "    ax.bar(['ISONE', 'NYISO', 'CAISO'], dat[source], width=0.5, label=source)\n",
    "\n",
    "ax.set_ylabel('Megawatt-hours Consumption')\n",
    "ax.set_xlabel('Regional ISO')\n",
    "ax.set_title('Mix of Fuel Sources in New England, NY, and CA')\n",
    "\n",
    "plt.show()"
   ]
  },
  {
   "attachments": {},
   "cell_type": "markdown",
   "metadata": {},
   "source": [
    "Consider two scatter plot the relationship"
   ]
  },
  {
   "attachments": {},
   "cell_type": "markdown",
   "metadata": {},
   "source": [
    "## Constructing the Models"
   ]
  },
  {
   "attachments": {},
   "cell_type": "markdown",
   "metadata": {},
   "source": [
    "Since we are investigating the relationships between variables of only several ISOs, we will either consider the New England ISO or consider all states. We may employ the Scikit-learn `linear_model` module for our purposes here. \n",
    "\n",
    "Specifically the first model will aim to estimate the relationship between the price of energy and the level of energy production by state. We preprocess accordingly."
   ]
  },
  {
   "cell_type": "code",
   "execution_count": 82,
   "metadata": {},
   "outputs": [
    {
     "data": {
      "text/html": [
       "<style>#sk-container-id-3 {color: black;background-color: white;}#sk-container-id-3 pre{padding: 0;}#sk-container-id-3 div.sk-toggleable {background-color: white;}#sk-container-id-3 label.sk-toggleable__label {cursor: pointer;display: block;width: 100%;margin-bottom: 0;padding: 0.3em;box-sizing: border-box;text-align: center;}#sk-container-id-3 label.sk-toggleable__label-arrow:before {content: \"▸\";float: left;margin-right: 0.25em;color: #696969;}#sk-container-id-3 label.sk-toggleable__label-arrow:hover:before {color: black;}#sk-container-id-3 div.sk-estimator:hover label.sk-toggleable__label-arrow:before {color: black;}#sk-container-id-3 div.sk-toggleable__content {max-height: 0;max-width: 0;overflow: hidden;text-align: left;background-color: #f0f8ff;}#sk-container-id-3 div.sk-toggleable__content pre {margin: 0.2em;color: black;border-radius: 0.25em;background-color: #f0f8ff;}#sk-container-id-3 input.sk-toggleable__control:checked~div.sk-toggleable__content {max-height: 200px;max-width: 100%;overflow: auto;}#sk-container-id-3 input.sk-toggleable__control:checked~label.sk-toggleable__label-arrow:before {content: \"▾\";}#sk-container-id-3 div.sk-estimator input.sk-toggleable__control:checked~label.sk-toggleable__label {background-color: #d4ebff;}#sk-container-id-3 div.sk-label input.sk-toggleable__control:checked~label.sk-toggleable__label {background-color: #d4ebff;}#sk-container-id-3 input.sk-hidden--visually {border: 0;clip: rect(1px 1px 1px 1px);clip: rect(1px, 1px, 1px, 1px);height: 1px;margin: -1px;overflow: hidden;padding: 0;position: absolute;width: 1px;}#sk-container-id-3 div.sk-estimator {font-family: monospace;background-color: #f0f8ff;border: 1px dotted black;border-radius: 0.25em;box-sizing: border-box;margin-bottom: 0.5em;}#sk-container-id-3 div.sk-estimator:hover {background-color: #d4ebff;}#sk-container-id-3 div.sk-parallel-item::after {content: \"\";width: 100%;border-bottom: 1px solid gray;flex-grow: 1;}#sk-container-id-3 div.sk-label:hover label.sk-toggleable__label {background-color: #d4ebff;}#sk-container-id-3 div.sk-serial::before {content: \"\";position: absolute;border-left: 1px solid gray;box-sizing: border-box;top: 0;bottom: 0;left: 50%;z-index: 0;}#sk-container-id-3 div.sk-serial {display: flex;flex-direction: column;align-items: center;background-color: white;padding-right: 0.2em;padding-left: 0.2em;position: relative;}#sk-container-id-3 div.sk-item {position: relative;z-index: 1;}#sk-container-id-3 div.sk-parallel {display: flex;align-items: stretch;justify-content: center;background-color: white;position: relative;}#sk-container-id-3 div.sk-item::before, #sk-container-id-3 div.sk-parallel-item::before {content: \"\";position: absolute;border-left: 1px solid gray;box-sizing: border-box;top: 0;bottom: 0;left: 50%;z-index: -1;}#sk-container-id-3 div.sk-parallel-item {display: flex;flex-direction: column;z-index: 1;position: relative;background-color: white;}#sk-container-id-3 div.sk-parallel-item:first-child::after {align-self: flex-end;width: 50%;}#sk-container-id-3 div.sk-parallel-item:last-child::after {align-self: flex-start;width: 50%;}#sk-container-id-3 div.sk-parallel-item:only-child::after {width: 0;}#sk-container-id-3 div.sk-dashed-wrapped {border: 1px dashed gray;margin: 0 0.4em 0.5em 0.4em;box-sizing: border-box;padding-bottom: 0.4em;background-color: white;}#sk-container-id-3 div.sk-label label {font-family: monospace;font-weight: bold;display: inline-block;line-height: 1.2em;}#sk-container-id-3 div.sk-label-container {text-align: center;}#sk-container-id-3 div.sk-container {/* jupyter's `normalize.less` sets `[hidden] { display: none; }` but bootstrap.min.css set `[hidden] { display: none !important; }` so we also need the `!important` here to be able to override the default hidden behavior on the sphinx rendered scikit-learn.org. See: https://github.com/scikit-learn/scikit-learn/issues/21755 */display: inline-block !important;position: relative;}#sk-container-id-3 div.sk-text-repr-fallback {display: none;}</style><div id=\"sk-container-id-3\" class=\"sk-top-container\"><div class=\"sk-text-repr-fallback\"><pre>LinearRegression()</pre><b>In a Jupyter environment, please rerun this cell to show the HTML representation or trust the notebook. <br />On GitHub, the HTML representation is unable to render, please try loading this page with nbviewer.org.</b></div><div class=\"sk-container\" hidden><div class=\"sk-item\"><div class=\"sk-estimator sk-toggleable\"><input class=\"sk-toggleable__control sk-hidden--visually\" id=\"sk-estimator-id-3\" type=\"checkbox\" checked><label for=\"sk-estimator-id-3\" class=\"sk-toggleable__label sk-toggleable__label-arrow\">LinearRegression</label><div class=\"sk-toggleable__content\"><pre>LinearRegression()</pre></div></div></div></div></div>"
      ],
      "text/plain": [
       "LinearRegression()"
      ]
     },
     "execution_count": 82,
     "metadata": {},
     "output_type": "execute_result"
    }
   ],
   "source": [
    "%%capture --no-display\n",
    "\n",
    "from sklearn import linear_model\n",
    "from sklearn.model_selection import train_test_split\n",
    "import random\n",
    "\n",
    "consumption.iloc[:-1,:]\n",
    "train, test = train_test_split(consumption[['Avg Price (cent/kWh)', 'Net Generation (MWh)', 'Net Summer Capcity (MW)']], test_size=0.25)\n",
    "X = train[['Net Generation (MWh)', 'Net Summer Capcity (MW)']].to_numpy()\n",
    "y = train[['Avg Price (cent/kWh)']].to_numpy()\n",
    "\n",
    "test_X = test[['Net Generation (MWh)', 'Net Summer Capcity (MW)']].to_numpy()\n",
    "test_y = test[['Avg Price (cent/kWh)']].to_numpy()\n",
    "\n",
    "reg = linear_model.LinearRegression()\n",
    "reg.fit(X=X, y=y)"
   ]
  },
  {
   "cell_type": "code",
   "execution_count": 83,
   "metadata": {},
   "outputs": [
    {
     "name": "stdout",
     "output_type": "stream",
     "text": [
      "[[-4.67084205e-08  1.66510027e-04]]\n"
     ]
    }
   ],
   "source": [
    "print(reg.coef_)\n",
    "\n",
    "from sklearn.metrics import f1_score\n",
    "# USE F1 SCORE HERE\n",
    "\n",
    "\n",
    "#reg.predict()\n",
    "# USE PREDICT METHOD HERE"
   ]
  },
  {
   "attachments": {},
   "cell_type": "markdown",
   "metadata": {},
   "source": [
    "The results may be interpreted to say that --CONTINUE HERE--"
   ]
  },
  {
   "attachments": {},
   "cell_type": "markdown",
   "metadata": {},
   "source": [
    "## Results and Conclusions"
   ]
  },
  {
   "attachments": {},
   "cell_type": "markdown",
   "metadata": {},
   "source": [
    "The data involved here required a great deal of energy in the gathering and munging phase. We derived some insight from the visualizations. One insight was that between seasons, especially in the Northeast, we see that a larger proportion of our energy comes from natural gas in the summer. "
   ]
  }
 ],
 "metadata": {
  "kernelspec": {
   "display_name": "Python 3.11.0 64-bit",
   "language": "python",
   "name": "python3"
  },
  "language_info": {
   "codemirror_mode": {
    "name": "ipython",
    "version": 3
   },
   "file_extension": ".py",
   "mimetype": "text/x-python",
   "name": "python",
   "nbconvert_exporter": "python",
   "pygments_lexer": "ipython3",
   "version": "3.11.0"
  },
  "orig_nbformat": 4,
  "vscode": {
   "interpreter": {
    "hash": "b85c235fe83537ff910f7c3e96f0f6da5d2d89c734ad1b409e7f42424359a87b"
   }
  }
 },
 "nbformat": 4,
 "nbformat_minor": 2
}
