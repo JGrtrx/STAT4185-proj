{
 "cells": [
  {
   "cell_type": "markdown",
   "metadata": {},
   "source": [
    "### STAT 4185 Final Project\n",
    "### Jacob Gratrix\n",
    "\n",
    "## An Analysis of the US Power Grid and its System Optimality"
   ]
  },
  {
   "cell_type": "markdown",
   "metadata": {},
   "source": [
    "### Introduction\n",
    "\n",
    "The United States power grid, while commercially balkanized among regional markets and operating firms, is the largest and most connected piece of infrastructure ever constructed by mankind. While the relationships between consumer satisfaction with grid operations and the actual upkeep status of the grid are no doubt multifactorial, here we aim to ascertain the rough degree to which this infrastructure accomplishes its explicity goal. \n",
    "\n"
   ]
  },
  {
   "cell_type": "code",
   "execution_count": 1,
   "metadata": {},
   "outputs": [],
   "source": [
    "import sys\n",
    "\n",
    "import numpy as np\n",
    "import pandas as pd\n",
    "import matplotlib as plt"
   ]
  },
  {
   "cell_type": "code",
   "execution_count": 2,
   "metadata": {},
   "outputs": [],
   "source": [
    "import gridstatus as gs\n",
    "\n",
    "import urllib\n",
    "from bs4 import BeautifulSoup as bs"
   ]
  },
  {
   "cell_type": "code",
   "execution_count": null,
   "metadata": {},
   "outputs": [],
   "source": [
    "testiso = gs.ISONE # New England ISO\n",
    "\n"
   ]
  },
  {
   "cell_type": "code",
   "execution_count": null,
   "metadata": {},
   "outputs": [],
   "source": [
    "# from sklearn import \n",
    "\n",
    "# import tensorflow"
   ]
  }
 ],
 "metadata": {
  "kernelspec": {
   "display_name": "Python 3.11.0 64-bit",
   "language": "python",
   "name": "python3"
  },
  "language_info": {
   "codemirror_mode": {
    "name": "ipython",
    "version": 3
   },
   "file_extension": ".py",
   "mimetype": "text/x-python",
   "name": "python",
   "nbconvert_exporter": "python",
   "pygments_lexer": "ipython3",
   "version": "3.11.0"
  },
  "orig_nbformat": 4,
  "vscode": {
   "interpreter": {
    "hash": "b85c235fe83537ff910f7c3e96f0f6da5d2d89c734ad1b409e7f42424359a87b"
   }
  }
 },
 "nbformat": 4,
 "nbformat_minor": 2
}
